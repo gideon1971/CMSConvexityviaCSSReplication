
# This is for numerical processing
import numpy as np
# This is the library most commonly used for plotting in Python.
# Notice how we import it 'as' plt, this enables us to type plt
# rather than the full string every time.
import matplotlib.pyplot as plt

def getStrikes(anchorStrike, displacement=0, CallPut = "CALL", nCashSettledSwaptions=30):

    if CallPut == "CALL":
        finalCallStrike = 10 * (anchorStrike + displacement)
    else:
        finalCallStrike = -displacement + 0.000001

    increment = (finalCallStrike-anchorStrike)/(nCashSettledSwaptions-1)
    cashSettledSwaptionStrikes = [anchorStrike + i * increment for i in range(nCashSettledSwaptions)]
    #cashSettledSwaptionForwards =[cashSettledSwaptionStrikes[i] + increment/2  for i in range(nCashSettledSwaptions)]
            
    return cashSettledSwaptionStrikes#, cashSettledSwaptionForwards

def getForwards(anchorStrike, displacement=0, CallPut = "CALL", nCashSettledSwaptions=30):
    K=getStrikes(anchorStrike, displacement, CallPut, nCashSettledSwaptions)
    increment=K[1]-K[0]


    cashSettledSwaptionForwards =[K[i] + increment/2  for i in range(nCashSettledSwaptions)]
            
    return cashSettledSwaptionForwards




b=getStrikes(0.03,0.02,"CALL")
#print(b)

a=getForwards(0.03,0.02,"CALL")
#print(a)
    
def PVBP(swapParRate,swapTenorInMonths,swapFixedLegPaymentTenorInMonths=12):
    

            factor=swapFixedLegPaymentTenorInMonths/12
            nPaymemnts=int(swapTenorInMonths/swapFixedLegPaymentTenorInMonths)
            df = 1/(1 + swapParRate*factor)
            
            s=0.0
            p=1.0
            for i in range(nPaymemnts):
                p*=df
                s+=p
                
            return s * factor


#print(PVBP(0.05,240,6))

def maax(a,b):
    if a>b:
        r=a
    else:
        r=b
    return r

#'######################################################################################

#The weights can be calculated recursively by calculating theterninal payoff

nCashSettledSwaptions=30
callWeights=[]
swapTenor=240
swapFixedLegMonths=6
anchorStrike=0.03
displacement=0.02
CallPut="CALL"

CallStrikes=getStrikes(anchorStrike, displacement, CallPut, nCashSettledSwaptions)
CallForwards=getForwards(anchorStrike, displacement, CallPut, nCashSettledSwaptions)
CallTargets=[CallForwards[i]-anchorStrike for i in range(nCashSettledSwaptions)]

for i in range(nCashSettledSwaptions):
    #find weight
    currentFwd=CallForwards[i]
    currentPVBP=PVBP(currentFwd,swapTenor,swapFixedLegMonths)
    
    nFixedStrikes=len(callWeights)
    prevPV=0
    
    if nFixedStrikes==0:
        prevPV=0
    else:
        for w in range(nFixedStrikes):
            prevPV=prevPV+maax(currentFwd-CallStrikes[w],0)*currentPVBP*weights[w]
   #         print(weights[w])
#        print(nFixedStrikes)
 #       print(CallStrikes[w]

    requiredPV=CallTargets[i]-prevPV
    currentWeight= requiredPV / (maax(currentFwd-CallStrikes[i],0)*currentPVBP)
    
    callWeights.append(currentWeight)
    
    

nCashSettledSwaptions=30
putWeights=[]
swapTenor=240
swapFixedLegMonths=6
anchorStrike=0.03
displacement=0.02
CallPut="PUT"

CallStrikes=getStrikes(anchorStrike, displacement, CallPut, nCashSettledSwaptions)
CallForwards=getForwards(anchorStrike, displacement, CallPut, nCashSettledSwaptions)
CallTargets=[CallForwards[i]-anchorStrike for i in range(nCashSettledSwaptions)]

for i in range(nCashSettledSwaptions):
    #find weight
    currentFwd=CallForwards[i]
    currentPVBP=PVBP(currentFwd,swapTenor,swapFixedLegMonths)
    
    nFixedStrikes=len(putWeights)
    prevPV=0
    
    if nFixedStrikes==0:
        prevPV=0
    else:
        for w in range(nFixedStrikes):
            prevPV=prevPV+maax(-currentFwd+CallStrikes[w],0)*currentPVBP*weights[w]
   #         print(weights[w])
#        print(nFixedStrikes)
 #       print(CallStrikes[w]

    requiredPV=CallTargets[i]-prevPV
    currentWeight= requiredPV / (maax(-currentFwd+CallStrikes[i],0)*currentPVBP)
    
    putWeights.append(currentWeight)
#data= [maax((CallForwards[i]-CallStrikes[k]),0) * PVBP(CallForwards[i],swapTenor,12) for i in range(nCashSettledSwaptions) for k in range(i,nCashSettledSwaptions) ]

print(callWeights)

print(putWeights)
